{
  "nbformat": 4,
  "nbformat_minor": 0,
  "metadata": {
    "colab": {
      "provenance": [],
      "collapsed_sections": [],
      "authorship_tag": "ABX9TyNBBsJrG2RlVliaHZoxh+jf",
      "include_colab_link": true
    },
    "kernelspec": {
      "name": "python3",
      "display_name": "Python 3"
    },
    "language_info": {
      "name": "python"
    }
  },
  "cells": [
    {
      "cell_type": "markdown",
      "metadata": {
        "id": "view-in-github",
        "colab_type": "text"
      },
      "source": [
        "<a href=\"https://colab.research.google.com/github/soeun7831/python-class/blob/main/Untitled0.ipynb\" target=\"_parent\"><img src=\"https://colab.research.google.com/assets/colab-badge.svg\" alt=\"Open In Colab\"/></a>"
      ]
    },
    {
      "cell_type": "code",
      "execution_count": null,
      "metadata": {
        "colab": {
          "base_uri": "https://localhost:8080/"
        },
        "id": "f20zPFRrpB5v",
        "outputId": "1ed4e4d7-265d-412d-fec4-0531565372f3"
      },
      "outputs": [
        {
          "output_type": "stream",
          "name": "stdout",
          "text": [
            "EJ's Class\n"
          ]
        }
      ],
      "source": [
        "print(\"EJ's Class\")"
      ]
    },
    {
      "cell_type": "code",
      "source": [
        "print(\"\\\"빨리 끝내주세요!\\\"라고 명석이가 외쳤다\")"
      ],
      "metadata": {
        "colab": {
          "base_uri": "https://localhost:8080/"
        },
        "id": "bBFq2NpqpUzT",
        "outputId": "6addb135-df18-4cca-ec03-4b935f54acf8"
      },
      "execution_count": null,
      "outputs": [
        {
          "output_type": "stream",
          "name": "stdout",
          "text": [
            "\"빨리 끝내주세요!\"라고 명석이가 외쳤다\n"
          ]
        }
      ]
    },
    {
      "cell_type": "code",
      "source": [
        "print(\"\\\"D:\\Windows\\\"\\n\\\"C:\\Programs\\\"\")"
      ],
      "metadata": {
        "colab": {
          "base_uri": "https://localhost:8080/"
        },
        "id": "oF2AUtxMpjWz",
        "outputId": "a42f00d0-ca40-4f1b-c981-f3367303ab7a"
      },
      "execution_count": null,
      "outputs": [
        {
          "output_type": "stream",
          "name": "stdout",
          "text": [
            "\"D:\\Windows\"\n",
            "\"C:\\Programs\"\n"
          ]
        }
      ]
    },
    {
      "cell_type": "code",
      "source": [
        "print(\"기러기\",\"역삼역\",\"우영우\", sep=\";\")"
      ],
      "metadata": {
        "colab": {
          "base_uri": "https://localhost:8080/"
        },
        "id": "r5x2v-fXepSD",
        "outputId": "a6acd265-0e7e-410c-ebb6-70b1be870bb6"
      },
      "execution_count": null,
      "outputs": [
        {
          "output_type": "stream",
          "name": "stdout",
          "text": [
            "기러기;역삼역;우영우\n"
          ]
        }
      ]
    },
    {
      "cell_type": "code",
      "source": [
        "print(\"몫=\", (10009/82))\n",
        "print(\"나머지=\", (10009%82))"
      ],
      "metadata": {
        "colab": {
          "base_uri": "https://localhost:8080/"
        },
        "id": "vvNRvl_Kfow4",
        "outputId": "58103a44-d0d6-4f6d-b93c-aa16dc1e47d4"
      },
      "execution_count": null,
      "outputs": [
        {
          "output_type": "stream",
          "name": "stdout",
          "text": [
            "몫= 122.0609756097561\n",
            "나머지= 5\n"
          ]
        }
      ]
    },
    {
      "cell_type": "code",
      "source": [
        "print(\"백석전자의 총평가금액=\",(100*70000),\"원\")"
      ],
      "metadata": {
        "colab": {
          "base_uri": "https://localhost:8080/"
        },
        "id": "fSLRCrmnineB",
        "outputId": "21374f81-08a4-41ff-e7df-1d2afbf6e4e3"
      },
      "execution_count": null,
      "outputs": [
        {
          "output_type": "stream",
          "name": "stdout",
          "text": [
            "백석전자의 총평가금액= 7000000 원\n"
          ]
        }
      ]
    },
    {
      "cell_type": "code",
      "source": [
        "s='안녕'\n",
        "t='여러분'\n",
        "print(s+\"!\"+t)"
      ],
      "metadata": {
        "colab": {
          "base_uri": "https://localhost:8080/"
        },
        "id": "8TWxs__Fi6a-",
        "outputId": "97291cde-bac8-4773-d854-1f8df27efeaf"
      },
      "execution_count": null,
      "outputs": [
        {
          "output_type": "stream",
          "name": "stdout",
          "text": [
            "안녕!여러분\n"
          ]
        }
      ]
    },
    {
      "cell_type": "code",
      "source": [
        "a = 10000\n",
        "a += 100\n",
        "a *= 30\n",
        "a /= 7\n",
        "print(a )"
      ],
      "metadata": {
        "colab": {
          "base_uri": "https://localhost:8080/"
        },
        "id": "H1qfC3cLjkVU",
        "outputId": "ea388e75-a7d1-462f-d592-fe1618308490"
      },
      "execution_count": null,
      "outputs": [
        {
          "output_type": "stream",
          "name": "stdout",
          "text": [
            "43285.71428571428\n"
          ]
        }
      ]
    },
    {
      "cell_type": "code",
      "source": [
        "Rara='Haveagoodday'\n",
        "print(\"Rara는\",len(Rara),\"개의 문자를 가지고 있다.\")\n",
        "print(\"첫번째 문자는\",Rara[0],\"이다.\")\n",
        "print(\"마지막 문자는\",Rara[11],\"이다.\")\n",
        "print(\"6번째부터 9번째까지 문자는\",Rara[5:9],\"이다.\")"
      ],
      "metadata": {
        "colab": {
          "base_uri": "https://localhost:8080/"
        },
        "id": "EwhaYUJzkuDV",
        "outputId": "472ab975-6c7f-4c2b-e5c0-a7f6c879981c"
      },
      "execution_count": null,
      "outputs": [
        {
          "output_type": "stream",
          "name": "stdout",
          "text": [
            "Rara는 12 개의 문자를 가지고 있다.\n",
            "첫번째 문자는 H 이다.\n",
            "마지막 문자는 y 이다.\n",
            "6번째부터 9번째까지 문자는 good 이다.\n"
          ]
        }
      ]
    },
    {
      "cell_type": "code",
      "source": [
        "input_a=float(input(\"하루에 평균 몇시간 자니?\"))\n",
        "print(input_a,\"시간\")"
      ],
      "metadata": {
        "colab": {
          "base_uri": "https://localhost:8080/"
        },
        "id": "Kxjhe-sRthQt",
        "outputId": "1a13ec9e-0520-4af6-bfe7-c5c576958bb4"
      },
      "execution_count": null,
      "outputs": [
        {
          "output_type": "stream",
          "name": "stdout",
          "text": [
            "하루에 평균 몇시간 자니?5\n",
            "5.0 시간\n"
          ]
        }
      ]
    },
    {
      "cell_type": "code",
      "source": [
        "input_python = float(input(\"파이썬 성적?\"))\n",
        "input_c = float(input(\"C언어 성적?\"))\n",
        "input_java = float(input(\"Java 성적?\"))\n",
        "all = input_python+input_c+input_java\n",
        "print(\"성적 총합\",all)\n",
        "print(\"성적 평균\",all/3)"
      ],
      "metadata": {
        "colab": {
          "base_uri": "https://localhost:8080/"
        },
        "id": "54ejjzUJ1P1H",
        "outputId": "d0280aa0-edfe-4017-e73f-b3be9be41310"
      },
      "execution_count": null,
      "outputs": [
        {
          "output_type": "stream",
          "name": "stdout",
          "text": [
            "파이썬 성적?10\n",
            "C언어 성적?8\n",
            "Java 성적?6\n",
            "성적 총합 24.0\n",
            "성적 평균 8.0\n"
          ]
        }
      ]
    }
  ]
}
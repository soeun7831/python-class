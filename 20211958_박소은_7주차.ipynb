{
  "nbformat": 4,
  "nbformat_minor": 0,
  "metadata": {
    "colab": {
      "provenance": [],
      "collapsed_sections": [],
      "authorship_tag": "ABX9TyPAeWusUa2+bMTWRJwtBQnr",
      "include_colab_link": true
    },
    "kernelspec": {
      "name": "python3",
      "display_name": "Python 3"
    },
    "language_info": {
      "name": "python"
    }
  },
  "cells": [
    {
      "cell_type": "markdown",
      "metadata": {
        "id": "view-in-github",
        "colab_type": "text"
      },
      "source": [
        "<a href=\"https://colab.research.google.com/github/soeun7831/python-class/blob/main/20211958_%EB%B0%95%EC%86%8C%EC%9D%80_7%EC%A3%BC%EC%B0%A8.ipynb\" target=\"_parent\"><img src=\"https://colab.research.google.com/assets/colab-badge.svg\" alt=\"Open In Colab\"/></a>"
      ]
    },
    {
      "cell_type": "code",
      "execution_count": null,
      "metadata": {
        "colab": {
          "base_uri": "https://localhost:8080/"
        },
        "id": "72na8WKnwOTD",
        "outputId": "9a5275ce-0a11-422a-e54c-067320bc94b0"
      },
      "outputs": [
        {
          "output_type": "stream",
          "name": "stdout",
          "text": [
            "{'메로나': '1000', '폴로포': '1200', '죠스바': '1200', '월드콘': '1500'}\n"
          ]
        }
      ],
      "source": [
        "41.\n",
        "\n",
        "ice = {'메로나':'1000',\n",
        "       '폴로포':'1200',\n",
        "       '빵빠레':'1800',\n",
        "       '죠스바':'1200',\n",
        "       '월드콘':'1500'}\n",
        "\n",
        "del ice[\"빵빠레\"]\n",
        "print(ice)"
      ]
    },
    {
      "cell_type": "code",
      "source": [
        "42.\n",
        "ice = {'메로나':'1000',\n",
        "       '폴로포':'1200',\n",
        "       '빵빠레':'1800',\n",
        "       '죠스바':'1200',\n",
        "       '월드콘':'1500'}\n",
        "\n",
        "print(ice[\"월드콘\"])"
      ],
      "metadata": {
        "colab": {
          "base_uri": "https://localhost:8080/"
        },
        "id": "SR3KpK35At84",
        "outputId": "35605fbd-29f4-439e-a693-1edd17e8dbbb"
      },
      "execution_count": null,
      "outputs": [
        {
          "output_type": "stream",
          "name": "stdout",
          "text": [
            "1500\n"
          ]
        }
      ]
    },
    {
      "cell_type": "code",
      "source": [
        "43.\n",
        "ice = {'메로나':'1000',\n",
        "       '폴로포':'1200',\n",
        "       '빵빠레':'1800',\n",
        "       '죠스바':'1200',\n",
        "       '월드콘':'1500'}\n",
        "\n",
        "ice[\"폴로포\"] = \"1500\"\n",
        "print(ice)"
      ],
      "metadata": {
        "colab": {
          "base_uri": "https://localhost:8080/"
        },
        "id": "8xVfAX5kGAaC",
        "outputId": "c1bd3ec1-23a6-4927-d47b-298da4415b8e"
      },
      "execution_count": null,
      "outputs": [
        {
          "output_type": "stream",
          "name": "stdout",
          "text": [
            "{'메로나': '1000', '폴로포': '1500', '빵빠레': '1800', '죠스바': '1200', '월드콘': '1500'}\n"
          ]
        }
      ]
    },
    {
      "cell_type": "code",
      "source": [
        "44.\n",
        "ice = {'메로나':'1000',\n",
        "       '폴로포':'1200',\n",
        "       '빵빠레':'1800',\n",
        "       '죠스바':'1200',\n",
        "       '월드콘':'1500'}\n",
        "\n",
        "ice[\"비비빅\"] = '500'\n",
        "ice"
      ],
      "metadata": {
        "colab": {
          "base_uri": "https://localhost:8080/"
        },
        "id": "wTTzXkGVHlkb",
        "outputId": "3fb02f13-89f7-49a8-a893-00a2cd63d3e4"
      },
      "execution_count": null,
      "outputs": [
        {
          "output_type": "execute_result",
          "data": {
            "text/plain": [
              "{'메로나': '1000',\n",
              " '폴로포': '1200',\n",
              " '빵빠레': '1800',\n",
              " '죠스바': '1200',\n",
              " '월드콘': '1500',\n",
              " '비비빅': '500'}"
            ]
          },
          "metadata": {},
          "execution_count": 23
        }
      ]
    },
    {
      "cell_type": "code",
      "source": [
        "45.#\n",
        "ice = {'메로나':'1000',\n",
        "       '폴로포':'1200',\n",
        "       '빵빠레':'1800',\n",
        "       '죠스바':'1200',\n",
        "       '월드콘':'1500'}\n",
        "\n",
        "key = input(\"사용자에게 입력받을 키:\")\n",
        "\n",
        "if key in ice:\n",
        "  print(ice['죠스바'])\n",
        "else:\n",
        "  print(\"존재하지 않는 키에 접근하고 있습니다.\")"
      ],
      "metadata": {
        "colab": {
          "base_uri": "https://localhost:8080/"
        },
        "id": "s0Oc1-VxI0ai",
        "outputId": "7ae1fef7-a17e-4dce-b62c-187972224fb9"
      },
      "execution_count": 1,
      "outputs": [
        {
          "output_type": "stream",
          "name": "stdout",
          "text": [
            "사용자에게 입력받을 키:죠스바\n",
            "1200\n"
          ]
        }
      ]
    },
    {
      "cell_type": "code",
      "source": [
        "46.\n",
        "ice = {'메로나':'1000',\n",
        "       '폴로포':'1200',\n",
        "       '빵빠레':'1800',\n",
        "       '죠스바':'1200',\n",
        "       '월드콘':'1500'}\n",
        "\n",
        "value = ice.get(\"존재하지 않는 키\")\n",
        "print(\"값:\", value)\n",
        "\n",
        "if value == None:\n",
        "  print(\"존재하지 않는 키에 접근했었습니다.\")\n",
        "else:\n",
        "  print(ice['메로나'])"
      ],
      "metadata": {
        "colab": {
          "base_uri": "https://localhost:8080/"
        },
        "id": "cfLQtS-kSo7p",
        "outputId": "aa84c039-7a9c-40e9-b38b-f81584d40834"
      },
      "execution_count": 4,
      "outputs": [
        {
          "output_type": "stream",
          "name": "stdout",
          "text": [
            "값: None\n",
            "존재하지 않는 키에 접근했었습니다.\n"
          ]
        }
      ]
    },
    {
      "cell_type": "code",
      "source": [
        "47.\n",
        "ice = {'메로나':'1000',\n",
        "       '폴로포':'1200',\n",
        "       '빵빠레':'1800',\n",
        "       '죠스바':'1200',\n",
        "       '월드콘':'1500'}\n",
        "\n",
        "for key in ice:\n",
        "  print(key,\":\",ice[key])"
      ],
      "metadata": {
        "id": "pJL2WBqLkzxq",
        "colab": {
          "base_uri": "https://localhost:8080/"
        },
        "outputId": "682f6b49-1cf8-4420-fad7-f7beb992aae3"
      },
      "execution_count": 6,
      "outputs": [
        {
          "output_type": "stream",
          "name": "stdout",
          "text": [
            "메로나 : 1000\n",
            "폴로포 : 1200\n",
            "빵빠레 : 1800\n",
            "죠스바 : 1200\n",
            "월드콘 : 1500\n"
          ]
        }
      ]
    },
    {
      "cell_type": "code",
      "source": [
        "48.\n",
        "for i in range(102,130,3):\n",
        "  print(i)"
      ],
      "metadata": {
        "colab": {
          "base_uri": "https://localhost:8080/"
        },
        "id": "OVSHEX-yTzWh",
        "outputId": "d6798a0b-9ec5-44ee-ba22-4a4134604a33"
      },
      "execution_count": null,
      "outputs": [
        {
          "output_type": "stream",
          "name": "stdout",
          "text": [
            "102\n",
            "105\n",
            "108\n",
            "111\n",
            "114\n",
            "117\n",
            "120\n",
            "123\n",
            "126\n",
            "129\n"
          ]
        }
      ]
    },
    {
      "cell_type": "code",
      "source": [
        "49.\n",
        "a = 9\n",
        "for i in range(a):\n",
        "  print(\" \"*((a-1)-i),end= '')\n",
        "  print('*'*(i + 1)) "
      ],
      "metadata": {
        "colab": {
          "base_uri": "https://localhost:8080/"
        },
        "id": "4nfI5hGJU55e",
        "outputId": "2d6c10e2-6e8f-4606-8f65-ca31a1684e3f"
      },
      "execution_count": null,
      "outputs": [
        {
          "output_type": "stream",
          "name": "stdout",
          "text": [
            "        *\n",
            "       **\n",
            "      ***\n",
            "     ****\n",
            "    *****\n",
            "   ******\n",
            "  *******\n",
            " ********\n",
            "*********\n"
          ]
        }
      ]
    },
    {
      "cell_type": "code",
      "source": [
        "50.\n",
        "i=11\n",
        "while (i<20):\n",
        "  print(str(i)+\"번째 반복입니다.\")\n",
        "  i+=1"
      ],
      "metadata": {
        "colab": {
          "base_uri": "https://localhost:8080/"
        },
        "id": "GU491oC-V7f9",
        "outputId": "a8a8c469-4246-4981-f68f-8c5484c4f78d"
      },
      "execution_count": null,
      "outputs": [
        {
          "output_type": "stream",
          "name": "stdout",
          "text": [
            "11번째 반복입니다.\n",
            "12번째 반복입니다.\n",
            "13번째 반복입니다.\n",
            "14번째 반복입니다.\n",
            "15번째 반복입니다.\n",
            "16번째 반복입니다.\n",
            "17번째 반복입니다.\n",
            "18번째 반복입니다.\n",
            "19번째 반복입니다.\n"
          ]
        }
      ]
    },
    {
      "cell_type": "code",
      "source": [
        "51.\n",
        "print(\"\\\"카운트다운을 시작합니다\\\"\")\n",
        "i=5\n",
        "\n",
        "while i>=1:\n",
        "  print(i)\n",
        "  i -=1\n",
        "\n",
        "print(\"\\\"발사\\\"\")"
      ],
      "metadata": {
        "colab": {
          "base_uri": "https://localhost:8080/"
        },
        "id": "Sgcme7BkYnPl",
        "outputId": "1ad6fea2-246d-45e2-fa0c-3b1349c79670"
      },
      "execution_count": null,
      "outputs": [
        {
          "output_type": "stream",
          "name": "stdout",
          "text": [
            "\"카운트다운을 시작합니다\"\n",
            "5\n",
            "4\n",
            "3\n",
            "2\n",
            "1\n",
            "\"발사\"\n"
          ]
        }
      ]
    }
  ]
}
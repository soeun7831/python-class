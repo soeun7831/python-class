{
  "nbformat": 4,
  "nbformat_minor": 0,
  "metadata": {
    "colab": {
      "provenance": [],
      "collapsed_sections": [],
      "authorship_tag": "ABX9TyM6Unt4wOHbOwmtwhun/7fU",
      "include_colab_link": true
    },
    "kernelspec": {
      "name": "python3",
      "display_name": "Python 3"
    },
    "language_info": {
      "name": "python"
    }
  },
  "cells": [
    {
      "cell_type": "markdown",
      "metadata": {
        "id": "view-in-github",
        "colab_type": "text"
      },
      "source": [
        "<a href=\"https://colab.research.google.com/github/soeun7831/python-class/blob/main/20211958%EB%B0%95%EC%86%8C%EC%9D%80_6%EC%A3%BC%EC%B0%A8.ipynb\" target=\"_parent\"><img src=\"https://colab.research.google.com/assets/colab-badge.svg\" alt=\"Open In Colab\"/></a>"
      ]
    },
    {
      "cell_type": "code",
      "source": [
        "25.\n",
        "list_a = [(1,2,3),(7,8,9),(10,234,12)]\n",
        "list_a[1][1]"
      ],
      "metadata": {
        "colab": {
          "base_uri": "https://localhost:8080/"
        },
        "id": "hPBLTRurveEO",
        "outputId": "15b430f9-5de0-43ac-d122-61164378d1c3"
      },
      "execution_count": 17,
      "outputs": [
        {
          "output_type": "execute_result",
          "data": {
            "text/plain": [
              "8"
            ]
          },
          "metadata": {},
          "execution_count": 17
        }
      ]
    },
    {
      "cell_type": "code",
      "source": [
        "26.\n",
        "list_a = [1,3,4,[1,5],[7,9,5]]\n",
        "\n",
        "print(list_a[0:3])\n",
        "print()\n",
        "list_a.append([2,4])\n",
        "print(list_a)\n",
        "print()\n",
        "del list_a[5]\n",
        "list_a.insert(3,7)\n",
        "list_a.insert(4,8)\n",
        "print(list_a)"
      ],
      "metadata": {
        "colab": {
          "base_uri": "https://localhost:8080/"
        },
        "id": "qhJmS0s73Ft4",
        "outputId": "951ba3b9-c709-4d11-a8b4-62238eb2d74f"
      },
      "execution_count": 83,
      "outputs": [
        {
          "output_type": "stream",
          "name": "stdout",
          "text": [
            "[1, 3, 4]\n",
            "\n",
            "[1, 3, 4, [1, 5], [7, 9, 5], [2, 4]]\n",
            "\n",
            "[1, 3, 4, 7, 8, [1, 5], [7, 9, 5]]\n"
          ]
        }
      ]
    },
    {
      "cell_type": "code",
      "source": [
        "27.\n",
        "list_a = [1,2,3,'A','apple']\n",
        "45 in list_a\n",
        "'App' in list_a"
      ],
      "metadata": {
        "colab": {
          "base_uri": "https://localhost:8080/"
        },
        "id": "eFr6mbO0yIxw",
        "outputId": "db842ef4-82d7-49a7-ee44-d3f63a5a80ac"
      },
      "execution_count": 33,
      "outputs": [
        {
          "output_type": "execute_result",
          "data": {
            "text/plain": [
              "False"
            ]
          },
          "metadata": {},
          "execution_count": 33
        }
      ]
    },
    {
      "cell_type": "code",
      "source": [
        "28.\n",
        "list_a = [2,3,4,5,6,7,8,9,10]\n",
        "\n",
        "print(list_a[::2])\n",
        "print(list_a[::-1])"
      ],
      "metadata": {
        "colab": {
          "base_uri": "https://localhost:8080/"
        },
        "id": "quP6qwy2yonl",
        "outputId": "4083239e-5979-48b9-8221-ca467d781fe7"
      },
      "execution_count": 142,
      "outputs": [
        {
          "output_type": "stream",
          "name": "stdout",
          "text": [
            "[2, 4, 6, 8, 10]\n",
            "[10, 9, 8, 7, 6, 5, 4, 3, 2]\n"
          ]
        }
      ]
    },
    {
      "cell_type": "code",
      "source": [
        "29.\n",
        "\n",
        "list_b = [1,2,3,4,5,6]\n",
        "list_c = [10,9,8,7]\n",
        "\n",
        "print(list_b+list_c[::-1])"
      ],
      "metadata": {
        "colab": {
          "base_uri": "https://localhost:8080/"
        },
        "id": "pl0t7yvB4oZb",
        "outputId": "fc02c262-e377-43d3-af0a-0d58ca7d1322"
      },
      "execution_count": 98,
      "outputs": [
        {
          "output_type": "stream",
          "name": "stdout",
          "text": [
            "[1, 2, 3, 4, 5, 6, 7, 8, 9, 10]\n"
          ]
        }
      ]
    },
    {
      "cell_type": "code",
      "source": [
        "30.\n",
        "for i in range(-3,0):\n",
        "  print(i)"
      ],
      "metadata": {
        "colab": {
          "base_uri": "https://localhost:8080/"
        },
        "id": "3lLJH9hb43uy",
        "outputId": "e3c56be2-a69e-4c3a-dcf5-44b49bf610ef"
      },
      "execution_count": 137,
      "outputs": [
        {
          "output_type": "stream",
          "name": "stdout",
          "text": [
            "-3\n",
            "-2\n",
            "-1\n"
          ]
        }
      ]
    },
    {
      "cell_type": "code",
      "source": [
        "31.\n",
        "list_a = [10,20,30,40,50]\n",
        "for i in list_a:\n",
        "  print(i+10)"
      ],
      "metadata": {
        "colab": {
          "base_uri": "https://localhost:8080/"
        },
        "id": "ZRaAaMCM5uAH",
        "outputId": "6e87bf85-91bb-4e21-a63a-f14cb91925c8"
      },
      "execution_count": 106,
      "outputs": [
        {
          "output_type": "stream",
          "name": "stdout",
          "text": [
            "20\n",
            "30\n",
            "40\n",
            "50\n",
            "60\n"
          ]
        }
      ]
    },
    {
      "cell_type": "code",
      "source": [
        "32.\n",
        "list_a = [\"삼성전자\",\"삼성출판사\",\"삼성SDI(주)\"]\n",
        "print(list_a[0],\":\",len(list_a[0]))"
      ],
      "metadata": {
        "colab": {
          "base_uri": "https://localhost:8080/"
        },
        "id": "V1FsJXW35_6O",
        "outputId": "ddc25783-a10e-43e5-b516-884dc2feab30"
      },
      "execution_count": 112,
      "outputs": [
        {
          "output_type": "stream",
          "name": "stdout",
          "text": [
            "삼성전자 : 4\n"
          ]
        }
      ]
    },
    {
      "cell_type": "code",
      "source": [
        "33.\n",
        "list_a = [3,-5,6,0,8,-10]\n",
        "for i in list_a:\n",
        "  if i < 0:\n",
        "    print(i)"
      ],
      "metadata": {
        "colab": {
          "base_uri": "https://localhost:8080/"
        },
        "id": "ZLLvIlbJ6hgj",
        "outputId": "655ac4a5-ec80-4788-e06b-4a653bc469ca"
      },
      "execution_count": 117,
      "outputs": [
        {
          "output_type": "stream",
          "name": "stdout",
          "text": [
            "-5\n",
            "-10\n"
          ]
        }
      ]
    },
    {
      "cell_type": "code",
      "source": [
        "34.################################\n",
        "list"
      ],
      "metadata": {
        "id": "nRds9FqZ7Acr"
      },
      "execution_count": null,
      "outputs": []
    },
    {
      "cell_type": "code",
      "source": [
        "35.\n",
        "numbers = [123,345,23,1,6,789,45,98,104,65]\n",
        "for i in numbers:\n",
        "  if i > 100:\n",
        "    print(\"100 이상의 수:\",i)"
      ],
      "metadata": {
        "colab": {
          "base_uri": "https://localhost:8080/"
        },
        "id": "HSh45By77LCF",
        "outputId": "0f82fd3f-1adb-494e-c1e5-007c269c650c"
      },
      "execution_count": 122,
      "outputs": [
        {
          "output_type": "stream",
          "name": "stdout",
          "text": [
            "100 이상의 수: 123\n",
            "100 이상의 수: 345\n",
            "100 이상의 수: 789\n",
            "100 이상의 수: 104\n"
          ]
        }
      ]
    },
    {
      "cell_type": "code",
      "source": [
        "36.###########################\n",
        "numbers = [123,345,23,1,6,789,45,98,104,65]\n",
        "for i in numbers:\n",
        "  if i%2 == 0 :\n",
        "    print(i,\"는 짝수 입니다\")\n",
        "  else:\n",
        "    print(i,\"는 홀수 입니다\")\n",
        "  print(len(numbers(i)))\n",
        "  print()"
      ],
      "metadata": {
        "colab": {
          "base_uri": "https://localhost:8080/",
          "height": 248
        },
        "id": "rX-IYtTL7kr_",
        "outputId": "edef6c1c-ce06-4d17-ca1e-1feb052a0b6b"
      },
      "execution_count": 169,
      "outputs": [
        {
          "output_type": "stream",
          "name": "stdout",
          "text": [
            "123 는 홀수 입니다\n"
          ]
        },
        {
          "output_type": "error",
          "ename": "TypeError",
          "evalue": "ignored",
          "traceback": [
            "\u001b[0;31m---------------------------------------------------------------------------\u001b[0m",
            "\u001b[0;31mTypeError\u001b[0m                                 Traceback (most recent call last)",
            "\u001b[0;32m<ipython-input-169-6b4b7f15c34d>\u001b[0m in \u001b[0;36m<module>\u001b[0;34m\u001b[0m\n\u001b[1;32m      6\u001b[0m   \u001b[0;32melse\u001b[0m\u001b[0;34m:\u001b[0m\u001b[0;34m\u001b[0m\u001b[0;34m\u001b[0m\u001b[0m\n\u001b[1;32m      7\u001b[0m     \u001b[0mprint\u001b[0m\u001b[0;34m(\u001b[0m\u001b[0mi\u001b[0m\u001b[0;34m,\u001b[0m\u001b[0;34m\"는 홀수 입니다\"\u001b[0m\u001b[0;34m)\u001b[0m\u001b[0;34m\u001b[0m\u001b[0;34m\u001b[0m\u001b[0m\n\u001b[0;32m----> 8\u001b[0;31m   \u001b[0mprint\u001b[0m\u001b[0;34m(\u001b[0m\u001b[0mlen\u001b[0m\u001b[0;34m(\u001b[0m\u001b[0mnumbers\u001b[0m\u001b[0;34m(\u001b[0m\u001b[0mi\u001b[0m\u001b[0;34m)\u001b[0m\u001b[0;34m)\u001b[0m\u001b[0;34m)\u001b[0m\u001b[0;34m\u001b[0m\u001b[0;34m\u001b[0m\u001b[0m\n\u001b[0m\u001b[1;32m      9\u001b[0m   \u001b[0mprint\u001b[0m\u001b[0;34m(\u001b[0m\u001b[0;34m)\u001b[0m\u001b[0;34m\u001b[0m\u001b[0;34m\u001b[0m\u001b[0m\n",
            "\u001b[0;31mTypeError\u001b[0m: 'list' object is not callable"
          ]
        }
      ]
    },
    {
      "cell_type": "code",
      "source": [
        "37.\n",
        "Numbers = [1,2,3,4,5,6,7,8,9]\n",
        "\n",
        "output = [[],[],[]]\n",
        "for number in Numbers:\n",
        "  output[(number+2)%3]\n",
        "print(output)"
      ],
      "metadata": {
        "id": "5wOJPHW2_8lW"
      },
      "execution_count": null,
      "outputs": []
    },
    {
      "cell_type": "markdown",
      "source": [
        "전개연산자\n",
        "리스트 내부에 사용\n",
        "a=1,2,3,4}\n",
        "a.append(5)\n",
        "b = (*a, *a)\n",
        "??????"
      ],
      "metadata": {
        "id": "da34SQdQwUnm"
      }
    }
  ]
}
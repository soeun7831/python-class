{
  "nbformat": 4,
  "nbformat_minor": 0,
  "metadata": {
    "colab": {
      "provenance": [],
      "authorship_tag": "ABX9TyMuLcFPjxnWy/FwuVQ+X2Jy",
      "include_colab_link": true
    },
    "kernelspec": {
      "name": "python3",
      "display_name": "Python 3"
    },
    "language_info": {
      "name": "python"
    }
  },
  "cells": [
    {
      "cell_type": "markdown",
      "metadata": {
        "id": "view-in-github",
        "colab_type": "text"
      },
      "source": [
        "<a href=\"https://colab.research.google.com/github/soeun7831/python-class/blob/main/20211958%EB%B0%95%EC%86%8C%EC%9D%80(12_24).ipynb\" target=\"_parent\"><img src=\"https://colab.research.google.com/assets/colab-badge.svg\" alt=\"Open In Colab\"/></a>"
      ]
    },
    {
      "cell_type": "code",
      "execution_count": 2,
      "metadata": {
        "colab": {
          "base_uri": "https://localhost:8080/"
        },
        "id": "1f0OU3oQdOtU",
        "outputId": "b6a8c506-0fc8-4458-fd59-cd2881131bcc"
      },
      "outputs": [
        {
          "output_type": "stream",
          "name": "stdout",
          "text": [
            "당신이 살고 싶은 집의 평수를 입력하세요 :2\n",
            "2.0 평은 6.61157 제곱미터입니다.\n"
          ]
        }
      ],
      "source": [
        "input_house = float(input(\"당신이 살고 싶은 집의 평수를 입력하세요 :\"))\n",
        "m=input_house*3.305785\n",
        "print(input_house,\"평은\",m,\"제곱미터입니다.\")"
      ]
    },
    {
      "cell_type": "code",
      "source": [
        "output_a=\"{:15.4f}\".format(100.743253234)\n",
        "print(output_a)"
      ],
      "metadata": {
        "colab": {
          "base_uri": "https://localhost:8080/"
        },
        "id": "CSUzSeo8jQa0",
        "outputId": "234eec22-6f32-4a1f-df6b-e39c7aeb289d"
      },
      "execution_count": 60,
      "outputs": [
        {
          "output_type": "stream",
          "name": "stdout",
          "text": [
            "       100.7433\n"
          ]
        }
      ]
    },
    {
      "cell_type": "code",
      "source": [
        "s1=\"But there's a hope that's waiting for you in the dark. You should know you're beautiful just the way you are And you don't have to change a thing. The world could change its heart. No scars to your beautiful, we're stars and we're beautiful\"\n",
        "print(s1.upper())\n",
        "print(s1.lower())"
      ],
      "metadata": {
        "colab": {
          "base_uri": "https://localhost:8080/"
        },
        "id": "RhDFPgwdn1cZ",
        "outputId": "816c6898-500f-4107-aa46-911ba259af1f"
      },
      "execution_count": 19,
      "outputs": [
        {
          "output_type": "stream",
          "name": "stdout",
          "text": [
            "BUT THERE'S A HOPE THAT'S WAITING FOR YOU IN THE DARK. YOU SHOULD KNOW YOU'RE BEAUTIFUL JUST THE WAY YOU ARE AND YOU DON'T HAVE TO CHANGE A THING. THE WORLD COULD CHANGE ITS HEART. NO SCARS TO YOUR BEAUTIFUL, WE'RE STARS AND WE'RE BEAUTIFUL\n",
            "but there's a hope that's waiting for you in the dark. you should know you're beautiful just the way you are and you don't have to change a thing. the world could change its heart. no scars to your beautiful, we're stars and we're beautiful\n"
          ]
        }
      ]
    },
    {
      "cell_type": "code",
      "source": [
        "s1=\"But there's a hope that's waiting for you in the dark. You should know you're beautiful just the way you are And you don't have to change a thing. The world could change its heart. No scars to your beautiful, we're stars and we're beautiful\".find(\"you\")\n",
        "print(s1)\n",
        "s1=\"But there's a hope that's waiting for you in the dark. You should know you're beautiful just the way you are And you don't have to change a thing. The world could change its heart. No scars to your beautiful, we're stars and we're beautiful\".rfind(\"you\")\n",
        "print(s1)"
      ],
      "metadata": {
        "colab": {
          "base_uri": "https://localhost:8080/"
        },
        "id": "1Lfwwzs7d6pw",
        "outputId": "a2ba19c1-4fcd-42dc-d89e-b628b8ec9e41"
      },
      "execution_count": 62,
      "outputs": [
        {
          "output_type": "stream",
          "name": "stdout",
          "text": [
            "38\n",
            "193\n"
          ]
        }
      ]
    },
    {
      "cell_type": "code",
      "source": [
        "s1=\"But there's a hope that's waiting for you in the dark. You should know you're beautiful just the way you are And you don't have to change a thing. The world could change its heart. No scars to your beautiful, we're stars and we're beautiful\"\n",
        "if \"change\"in s1 :\n",
        "  print(\"True\")\n",
        "else:\n",
        "  print(\"False\")"
      ],
      "metadata": {
        "colab": {
          "base_uri": "https://localhost:8080/"
        },
        "id": "yiqwxG8Mqe2C",
        "outputId": "2bfb8cfe-c871-47cf-ecef-a17660a51d21"
      },
      "execution_count": 32,
      "outputs": [
        {
          "output_type": "stream",
          "name": "stdout",
          "text": [
            "True\n"
          ]
        }
      ]
    },
    {
      "cell_type": "code",
      "source": [
        "s1=\"But there's a hope that's waiting for you in the dark. You should know you're beautiful just the way you are And you don't have to change a thing. The world could change its heart. No scars to your beautiful, we're stars and we're beautiful\".split(\".\")\n",
        "print(s1)"
      ],
      "metadata": {
        "colab": {
          "base_uri": "https://localhost:8080/"
        },
        "id": "nZ1U5hZ1rj9E",
        "outputId": "66c82b88-3939-4449-80d8-439b5de1a26d"
      },
      "execution_count": 56,
      "outputs": [
        {
          "output_type": "stream",
          "name": "stdout",
          "text": [
            "[\"But there's a hope that's waiting for you in the dark\", \" You should know you're beautiful just the way you are And you don't have to change a thing\", ' The world could change its heart', \" No scars to your beautiful, we're stars and we're beautiful\"]\n"
          ]
        }
      ]
    },
    {
      "cell_type": "code",
      "source": [
        "number=float(input(\"숫자를 하나 입력하세요>\"))\n",
        "\n",
        "if number%2 == 0:\n",
        "  print(\"짝수입니다\")\n",
        "else:\n",
        "    print(\"홀수입니다\")"
      ],
      "metadata": {
        "colab": {
          "base_uri": "https://localhost:8080/"
        },
        "id": "jlxtde-DtJ65",
        "outputId": "cac24a2d-5586-49b0-8592-41427650e1e5"
      },
      "execution_count": 31,
      "outputs": [
        {
          "output_type": "stream",
          "name": "stdout",
          "text": [
            "숫자를 하나 입력하세요>2\n",
            "짝수입니다\n"
          ]
        }
      ]
    },
    {
      "cell_type": "code",
      "source": [
        "number=float(input(\"숫자를 하나 입력하세요>\"))\n",
        "number += 30\n",
        "if (number<240):\n",
        "  print(number)\n",
        "else:\n",
        "  print(\"240\")"
      ],
      "metadata": {
        "colab": {
          "base_uri": "https://localhost:8080/"
        },
        "id": "A5_KS4h4tPR8",
        "outputId": "645f22f5-d333-434a-a348-e5f0f85c8f9d"
      },
      "execution_count": 39,
      "outputs": [
        {
          "output_type": "stream",
          "name": "stdout",
          "text": [
            "숫자를 하나 입력하세요>250\n",
            "240\n"
          ]
        }
      ]
    },
    {
      "cell_type": "code",
      "source": [
        "score=float(input(\"시험 점수는?\"))\n",
        "if (95<=score<=100):\n",
        "  print(\"학점은 A+이다.\")\n",
        "elif(90<=score<=94):\n",
        "  print(\"학점은 A이다.\")\n",
        "elif(85<=score<=89):\n",
        "  print(\"학점은 B+이다.\")\n",
        "elif(80<=score<=84):\n",
        "  print(\"학점은 B이다.\")\n",
        "else:\n",
        "  print(\"학점은 F이다.\")"
      ],
      "metadata": {
        "colab": {
          "base_uri": "https://localhost:8080/"
        },
        "id": "mD9ccK09ukIA",
        "outputId": "92aa9087-397a-48aa-a575-f363d202998e"
      },
      "execution_count": 41,
      "outputs": [
        {
          "output_type": "stream",
          "name": "stdout",
          "text": [
            "시험 점수는?95\n",
            "학점은 A+이다.\n"
          ]
        }
      ]
    },
    {
      "cell_type": "code",
      "source": [
        "number = float(input(\"숫자 입력 >\"))\n",
        "print(1<number<6)"
      ],
      "metadata": {
        "colab": {
          "base_uri": "https://localhost:8080/"
        },
        "id": "zPqQ9QPfvnFo",
        "outputId": "a7c74918-2d26-4b9f-b503-e69f9b3a7b0e"
      },
      "execution_count": 47,
      "outputs": [
        {
          "output_type": "stream",
          "name": "stdout",
          "text": [
            "숫자 입력 >6\n",
            "False\n"
          ]
        }
      ]
    },
    {
      "cell_type": "code",
      "source": [
        "print(5 == 7)"
      ],
      "metadata": {
        "colab": {
          "base_uri": "https://localhost:8080/"
        },
        "id": "9G6EM9o4xE3J",
        "outputId": "770c941f-7d2e-45b9-9d85-e1060550303d"
      },
      "execution_count": 48,
      "outputs": [
        {
          "output_type": "stream",
          "name": "stdout",
          "text": [
            "False\n"
          ]
        }
      ]
    },
    {
      "cell_type": "code",
      "source": [
        "if 4<1 :\n",
        "  print(\"실습을 열심히\")\n",
        "  #결과값이 나오지 않는다./조건문이 false이기 때문이다."
      ],
      "metadata": {
        "id": "SnbUrcU5xKu7"
      },
      "execution_count": 67,
      "outputs": []
    },
    {
      "cell_type": "code",
      "source": [
        "if True:\n",
        "  if False:\n",
        "    print(\"1\")\n",
        "    print(\"2\")\n",
        "  else:\n",
        "    print(\"3\")\n",
        "else:\n",
        "  print(\"4\")\n",
        "print(\"5\")\n",
        "#이유 첫번째는 조건이 Ture이니 True로 실행 후 ture인 3번으로 됩니다.\n",
        "#그리고 if문을 빠져나온 후 5를 출력해줍니다."
      ],
      "metadata": {
        "colab": {
          "base_uri": "https://localhost:8080/"
        },
        "id": "W-sxWxMQxT68",
        "outputId": "629cacd0-c122-4984-f0cc-0646f84cf18e"
      },
      "execution_count": 53,
      "outputs": [
        {
          "output_type": "stream",
          "name": "stdout",
          "text": [
            "3\n",
            "5\n"
          ]
        }
      ]
    }
  ]
}